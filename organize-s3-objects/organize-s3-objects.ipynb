{
 "cells": [
  {
   "cell_type": "code",
   "execution_count": 47,
   "metadata": {},
   "outputs": [],
   "source": [
    "import boto3\n",
    "from datetime import datetime"
   ]
  },
  {
   "cell_type": "code",
   "execution_count": 48,
   "metadata": {},
   "outputs": [],
   "source": [
    "today = datetime.today()"
   ]
  },
  {
   "cell_type": "code",
   "execution_count": 50,
   "metadata": {},
   "outputs": [],
   "source": [
    "todays_date = today.strftime(\"%Y%m%d\")"
   ]
  },
  {
   "cell_type": "code",
   "execution_count": 52,
   "metadata": {},
   "outputs": [],
   "source": [
    "s3_client = boto3.client('s3')"
   ]
  },
  {
   "cell_type": "code",
   "execution_count": 53,
   "metadata": {},
   "outputs": [],
   "source": [
    "bucket_name = \"jordancampbell-organize-s3-objects\""
   ]
  },
  {
   "cell_type": "code",
   "execution_count": 54,
   "metadata": {},
   "outputs": [],
   "source": [
    "list_objects_response = s3_client.list_objects_v2(Bucket = bucket_name)"
   ]
  },
  {
   "cell_type": "code",
   "execution_count": 56,
   "metadata": {},
   "outputs": [],
   "source": [
    "get_contents = list_objects_response.get(\"Contents\")"
   ]
  },
  {
   "cell_type": "code",
   "execution_count": 58,
   "metadata": {},
   "outputs": [],
   "source": [
    "get_all_s3_object_and_folder_names = []\n",
    "\n",
    "for item in get_contents:\n",
    "    s3_object_name = item.get(\"Key\")\n",
    "\n",
    "    get_all_s3_object_and_folder_names.append(s3_object_name)"
   ]
  },
  {
   "cell_type": "code",
   "execution_count": 60,
   "metadata": {},
   "outputs": [],
   "source": [
    "directory_name = todays_date + \"/\""
   ]
  },
  {
   "cell_type": "code",
   "execution_count": 62,
   "metadata": {},
   "outputs": [],
   "source": [
    "if directory_name not in get_all_s3_object_and_folder_names:\n",
    "    s3_client.put_object(Bucket=bucket_name, Key=(directory_name))"
   ]
  },
  {
   "cell_type": "code",
   "execution_count": 63,
   "metadata": {},
   "outputs": [],
   "source": [
    "for item in get_contents:\n",
    "    object_creation_date = item.get(\"LastModified\").strftime(\"%Y%m%d\") + \"/\"\n",
    "    object_name = item.get(\"Key\")\n",
    "\n",
    "    if object_creation_date == directory_name and \"/\" not in object_name:\n",
    "        s3_client.copy_object(Bucket=bucket_name, CopySource=bucket_name+\"/\"+object_name, Key=directory_name+object_name)\n",
    "        s3_client.delete_object(Bucket=bucket_name, Key=object_name)"
   ]
  }
 ],
 "metadata": {
  "kernelspec": {
   "display_name": ".venv",
   "language": "python",
   "name": "python3"
  },
  "language_info": {
   "codemirror_mode": {
    "name": "ipython",
    "version": 3
   },
   "file_extension": ".py",
   "mimetype": "text/x-python",
   "name": "python",
   "nbconvert_exporter": "python",
   "pygments_lexer": "ipython3",
   "version": "3.9.5"
  },
  "orig_nbformat": 4
 },
 "nbformat": 4,
 "nbformat_minor": 2
}
